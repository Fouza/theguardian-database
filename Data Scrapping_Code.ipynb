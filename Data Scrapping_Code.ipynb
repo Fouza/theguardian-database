{
 "cells": [
  {
   "cell_type": "markdown",
   "metadata": {},
   "source": [
    "\n",
    "## APIs - Application Programming Interfaces\n"
   ]
  },
  {
   "cell_type": "markdown",
   "metadata": {},
   "source": [
    "### The Guardian API\n",
    "\n",
    "1. Register as a developer and sign up for an API key (<a href=\"https://bonobo.capi.gutools.co.uk/register/developer\" target=\"_blank\">here</a>).\n",
    "\n",
    "2. Visit <a href=\"https://open-platform.theguardian.com/explore/\" target=\"_blank\">content explorer</a> to have an idea what data is included by quickly building queries and browsing the results without Python.\n"
   ]
  },
  {
   "cell_type": "markdown",
   "metadata": {},
   "source": [
    "### Overview of the process\n",
    "1. Install the \"requests\" library\n",
    "2. Generate API request\n",
    "3. Extract the data\n",
    "4. Save the data"
   ]
  },
  {
   "cell_type": "markdown",
   "metadata": {},
   "source": [
    "### Step 1. Install the \"requests\" library"
   ]
  },
  {
   "cell_type": "markdown",
   "metadata": {},
   "source": [
    "<a href=\"https://2.python-requests.org/en/master/\" target=\"_blank\"> requests library</a> - for details"
   ]
  },
  {
   "cell_type": "code",
   "execution_count": null,
   "metadata": {},
   "outputs": [],
   "source": [
    "# install and import the library:\n",
    "import requests\n",
    "\n",
    "# To install the package: conda install requests\n",
    "\n",
    "# To ignore warnings\n"
   ]
  },
  {
   "cell_type": "markdown",
   "metadata": {},
   "source": [
    "### Step 2. Generate API request"
   ]
  },
  {
   "cell_type": "markdown",
   "metadata": {},
   "source": [
    "#### 2.1 Specify the parameters"
   ]
  },
  {
   "cell_type": "code",
   "execution_count": null,
   "metadata": {},
   "outputs": [],
   "source": [
    "# Specify your own api key which you received via e-mail after registration:\n",
    "api_key = 'd1f9dedc-a57a-4d2c-82dd-7f54a38584b8'\n",
    "\n",
    "# Specify a particular endpoint (in this example we use `sections`):\n",
    "api_endpoint = 'http://content.guardianapis.com/sections?'\n",
    "\n",
    "# Specify a keyword (what you would put in a search field)\n",
    "query = 'business'"
   ]
  },
  {
   "cell_type": "code",
   "execution_count": null,
   "metadata": {},
   "outputs": [],
   "source": [
    "# let's merge parameters to create URL using f-strings:\n",
    "\n",
    "query_url = f\"{api_endpoint}\" \\\n",
    "            f\"api-key={api_key}\" \\\n",
    "            f\"&q={query}\"\n",
    "\n",
    "# Let's look at the list of sections about business:\n"
   ]
  },
  {
   "cell_type": "code",
   "execution_count": null,
   "metadata": {},
   "outputs": [],
   "source": [
    "\n"
   ]
  },
  {
   "cell_type": "code",
   "execution_count": null,
   "metadata": {},
   "outputs": [],
   "source": [
    "# Let's make a request to API endpoint:\n",
    "\n",
    "api_endpoint = 'http://content.guardianapis.com/sections'\n",
    "\n",
    "my_params = {\n",
    "    'api-key': api_key,\n",
    "    'q': \"business\",\n",
    "}\n",
    "r = requests.get(api_endpoint, my_params)\n",
    "data = r.json()\n",
    "data[\"response\"][\"results\"]"
   ]
  },
  {
   "cell_type": "markdown",
   "metadata": {},
   "source": [
    "#### 2.2 Filter the input parameters\n",
    "\n",
    "We have used `q=` for the keyword paramater. More parameters can be set.\n",
    "\n",
    "Information about search parameters is <a href=\"https://open-platform.theguardian.com/documentation/search\" target=\"_blank\">here</a>. "
   ]
  },
  {
   "cell_type": "code",
   "execution_count": null,
   "metadata": {},
   "outputs": [],
   "source": [
    "api_endpoint = 'http://content.guardianapis.com/search'\n",
    "\n",
    "my_params = {\n",
    "    'q': \"big data\",\n",
    "    'order-by': \"newest\",\n",
    "    'show-fields': 'all',\n",
    "    'section': \"business\",\n",
    "    'page-size': 200,\n",
    "    'api-key': api_key\n",
    "}\n",
    "r = requests.get(api_endpoint, my_params)\n",
    "r.json()"
   ]
  },
  {
   "cell_type": "markdown",
   "metadata": {},
   "source": [
    "# Step 3. Extract the data\n",
    "\n",
    "#### 3.1 Output in 'json'\n",
    "\n",
    "`.json()`\n",
    "\n",
    "The Guardian: structure of the output: `response` -> general information, including `results` with a list of articles and their metadata."
   ]
  },
  {
   "cell_type": "code",
   "execution_count": null,
   "metadata": {
    "scrolled": true
   },
   "outputs": [],
   "source": [
    "# Extract the data\n",
    "data = r.json()\n",
    "data"
   ]
  },
  {
   "cell_type": "markdown",
   "metadata": {},
   "source": [
    "#### 3.2 Convert to DataFrame\n",
    "\n",
    "1. Get to `results`, where all articles are with `data['response']['results']`.\n",
    "2. Use `pandas` package for data manipulation. In particular, `pd.json_normalize()` which takes as an argument JSON file and returns data as DataFrame.\n",
    "3. Data clearing: select variables of interest & rename it for convenience.\n"
   ]
  },
  {
   "cell_type": "code",
   "execution_count": null,
   "metadata": {},
   "outputs": [],
   "source": [
    "# Let's import pandas library\n",
    "# Execute the following command to update pandas to 1.0.3 version due to `version change`\n",
    "#!pip install --user pandas==1.0.3\n",
    "import pandas as pd\n",
    "from pandas import json_normalize\n",
    "pd.__version__\n",
    "data[\"response\"][\"results\"]"
   ]
  },
  {
   "cell_type": "code",
   "execution_count": null,
   "metadata": {},
   "outputs": [],
   "source": [
    "# 'Results' with all the articles summarized in more readable format \n",
    "ndata = json_normalize(data)\n",
    "print(ndata)\n",
    "ndata[\"response.results\"]"
   ]
  },
  {
   "cell_type": "code",
   "execution_count": null,
   "metadata": {},
   "outputs": [],
   "source": [
    "# To create DataFrame\n",
    "df = pd.DataFrame(data[\"response\"][\"results\"])\n",
    "# df.dtypes\n",
    "df"
   ]
  },
  {
   "cell_type": "markdown",
   "metadata": {},
   "source": [
    "#### 3.3 Observe DataFrame parameters"
   ]
  },
  {
   "cell_type": "code",
   "execution_count": null,
   "metadata": {},
   "outputs": [],
   "source": [
    "df.shape"
   ]
  },
  {
   "cell_type": "code",
   "execution_count": null,
   "metadata": {},
   "outputs": [],
   "source": [
    "df.size"
   ]
  },
  {
   "cell_type": "code",
   "execution_count": null,
   "metadata": {},
   "outputs": [],
   "source": [
    "df.columns\n",
    "list(df.columns.values)"
   ]
  },
  {
   "cell_type": "code",
   "execution_count": null,
   "metadata": {},
   "outputs": [],
   "source": [
    "df[\"fields\"]"
   ]
  },
  {
   "cell_type": "code",
   "execution_count": null,
   "metadata": {},
   "outputs": [],
   "source": [
    "# Fields columns contains objects\n",
    "# In order to use the data inside these objects we are going to add new columns \n",
    "# to the dataframe based on the attributes of the fields' objects"
   ]
  },
  {
   "cell_type": "code",
   "execution_count": null,
   "metadata": {},
   "outputs": [],
   "source": [
    "headlines = pd.Series([],dtype=\"string\")\n",
    "i = 0\n",
    "for field in (df[\"fields\"]): \n",
    "    headlines = headlines.append(pd.Series(field[\"headline\"],index=[i]))\n",
    "    i=i+1\n",
    "\n",
    "headlines\n",
    "df[\"headline\"] = headlines\n",
    "\n",
    "shortUrls = pd.Series([],dtype=\"string\")\n",
    "i=0\n",
    "for field in (df[\"fields\"]):\n",
    "    shortUrls = shortUrls.append(pd.Series(field[\"shortUrl\"], index=[i]))\n",
    "    i=i+1\n",
    "\n",
    "df[\"shortUrl\"] = shortUrls\n",
    "    \n",
    "standFirsts = pd.Series([], dtype=\"string\")\n",
    "i=0\n",
    "for field in (df[\"fields\"]):\n",
    "    standFirsts = standFirsts.append(pd.Series(field[\"standfirst\"], index=[i]))\n",
    "    i=i+1\n",
    "    \n",
    "df[\"standFirst\"] = standFirsts \n",
    "    \n",
    "wordcounts = pd.Series([], dtype=\"int64\")\n",
    "i=0\n",
    "for field in (df[\"fields\"]):\n",
    "    wordcounts = wordcounts.append(pd.Series(field[\"wordcount\"], index=[i]))\n",
    "    i=i+1\n",
    "    \n",
    "df[\"wordcount\"] = wordcounts    \n",
    "\n",
    "bodyTexts = pd.Series([], dtype=\"string\")\n",
    "i=0\n",
    "for field in (df[\"fields\"]):\n",
    "    bodyTexts = bodyTexts.append(pd.Series(field[\"bodyText\"], index=[i]))\n",
    "    i=i+1\n",
    "    \n",
    "df[\"bodyText\"] = bodyTexts\n",
    "\n",
    "df"
   ]
  },
  {
   "cell_type": "markdown",
   "metadata": {},
   "source": [
    "#### 3.4 Create a subset with the required variables"
   ]
  },
  {
   "cell_type": "code",
   "execution_count": null,
   "metadata": {
    "scrolled": true
   },
   "outputs": [],
   "source": [
    "# Select variables of interest\n",
    "\n",
    "df_subset=df[['id', 'type', 'sectionName', 'webPublicationDate', 'webTitle',\\\n",
    "                       'fields', 'headline', 'shortUrl', 'pillarName', \\\n",
    "             'standFirst','wordcount', 'bodyText']]\n",
    "\n",
    "# Rename variables if necessary\n",
    "\n",
    "df_subset.rename(columns={\"sectionName\": \"section\", \"webPublicationDate\": \"date\",\\\n",
    "\"standFirst\": \"snippet\", \"shortUrl\": \"url\", \\\n",
    "\"bodyText\": \"article_text\"}, inplace = True)\n",
    "\n",
    "df_subset\n"
   ]
  },
  {
   "cell_type": "code",
   "execution_count": null,
   "metadata": {},
   "outputs": [],
   "source": [
    "# Format the dates\n",
    "\n",
    "df_subset['date']=pd.to_datetime(df_subset['date']).dt.strftime('%Y-%m-%d')\n"
   ]
  },
  {
   "cell_type": "code",
   "execution_count": null,
   "metadata": {},
   "outputs": [],
   "source": [
    "# The final DataFrame:\n",
    "df_subset\n"
   ]
  },
  {
   "cell_type": "markdown",
   "metadata": {},
   "source": [
    "#### 3.5 Observe the DataFrame subset"
   ]
  },
  {
   "cell_type": "code",
   "execution_count": null,
   "metadata": {
    "scrolled": true
   },
   "outputs": [],
   "source": [
    "# Article_text in one of the rows\n",
    "df_subset[\"article_text\"][155]"
   ]
  },
  {
   "cell_type": "code",
   "execution_count": null,
   "metadata": {},
   "outputs": [],
   "source": [
    "# URL of the article\n",
    "df_subset[\"url\"]"
   ]
  },
  {
   "cell_type": "code",
   "execution_count": null,
   "metadata": {},
   "outputs": [],
   "source": [
    "# Number of rows and columns\n",
    "len(df_subset[\"id\"])\n",
    "len(df_subset.columns)"
   ]
  },
  {
   "cell_type": "code",
   "execution_count": null,
   "metadata": {},
   "outputs": [],
   "source": [
    "# Names of columns\n",
    "df_subset.columns"
   ]
  },
  {
   "cell_type": "markdown",
   "metadata": {},
   "source": [
    "### Step 4. Save the data"
   ]
  },
  {
   "cell_type": "code",
   "execution_count": null,
   "metadata": {},
   "outputs": [],
   "source": [
    "df_subset.to_excel(r'C:\\Users\\example\\theguardian\\Database.xlsx', encoding='utf-8')"
   ]
  },
  {
   "cell_type": "code",
   "execution_count": null,
   "metadata": {},
   "outputs": [],
   "source": []
  }
 ],
 "metadata": {
  "kernelspec": {
   "display_name": "Python 3",
   "language": "python",
   "name": "python3"
  },
  "language_info": {
   "codemirror_mode": {
    "name": "ipython",
    "version": 3
   },
   "file_extension": ".py",
   "mimetype": "text/x-python",
   "name": "python",
   "nbconvert_exporter": "python",
   "pygments_lexer": "ipython3",
   "version": "3.7.3"
  }
 },
 "nbformat": 4,
 "nbformat_minor": 4
}
